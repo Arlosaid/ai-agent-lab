{
 "cells": [
  {
   "cell_type": "code",
   "execution_count": 1,
   "id": "a1d09e45-467e-4ede-81c9-d8ee385405b0",
   "metadata": {},
   "outputs": [
    {
     "name": "stdout",
     "output_type": "stream",
     "text": [
      "Descargando modelo de traducción...\n",
      "La primera vez que se descarga puede tardar unos minutos...\n"
     ]
    },
    {
     "name": "stderr",
     "output_type": "stream",
     "text": [
      "c:\\Users\\Alonso\\Desktop\\IA learning\\ai-env\\Lib\\site-packages\\transformers\\models\\marian\\tokenization_marian.py:175: UserWarning: Recommended: pip install sacremoses.\n",
      "  warnings.warn(\"Recommended: pip install sacremoses.\")\n",
      "Device set to use cpu\n"
     ]
    },
    {
     "name": "stdout",
     "output_type": "stream",
     "text": [
      "Modelo descargado correctamente\n",
      "LLM creado correctamente\n"
     ]
    }
   ],
   "source": [
    "# Día 3: Primeros scripts con LLM + prompts de traducción (Hugging Face)\n",
    "import os\n",
    "from langchain_core.prompts import PromptTemplate\n",
    "from langchain_core.output_parsers import StrOutputParser\n",
    "from langchain_huggingface import HuggingFacePipeline\n",
    "from transformers import pipeline\n",
    "\n",
    "print(\"Descargando modelo de traducción...\")\n",
    "print(\"La primera vez que se descarga puede tardar unos minutos...\")\n",
    "\n",
    "translator_pipeline = pipeline(\n",
    "    \"translation\",\n",
    "    model=\"Helsinki-NLP/opus-mt-en-es\",\n",
    "    device=\"cpu\"\n",
    ")\n",
    "print(\"Modelo descargado correctamente\")\n",
    "\n",
    "llm = HuggingFacePipeline(pipeline=translator_pipeline)\n",
    "print(\"LLM creado correctamente\")"
   ]
  },
  {
   "cell_type": "code",
   "execution_count": 2,
   "id": "0bfcf2c4",
   "metadata": {},
   "outputs": [
    {
     "name": "stdout",
     "output_type": "stream",
     "text": [
      "✅ Prompt templates creados:\n",
      "1️⃣ Básico: Traducción directa\n",
      "2️⃣ Formal: Estilo profesional\n",
      "3️⃣ Creativo: Estilo casual y amigable\n"
     ]
    }
   ],
   "source": [
    "# 📝 Paso 2: Crear 3 tipos de prompts diferentes\n",
    "\n",
    "# 1. Prompt básico - Solo traduce sin instrucciones adicionales\n",
    "prompt_basico = PromptTemplate(\n",
    "    input_variables=[\"texto\"],\n",
    "    template=\"{texto}\"\n",
    ")\n",
    "\n",
    "# 2. Prompt formal - Con instrucciones de estilo formal  \n",
    "prompt_formal = PromptTemplate(\n",
    "    input_variables=[\"texto\"],\n",
    "    template=\"Traduce el siguiente texto al español de manera como si fuera para niños de 5 años: {texto}\"\n",
    ")\n",
    "\n",
    "# 3. Prompt creativo - Con instrucciones de estilo casual\n",
    "prompt_creativo = PromptTemplate(\n",
    "    input_variables=[\"texto\"],\n",
    "    template=\"Traduce el siguiente texto al español de manera para un animal: {texto}\"\n",
    ")\n",
    "\n",
    "print(\"✅ Prompt templates creados:\")\n",
    "print(\"1️⃣ Básico: Traducción directa\")\n",
    "print(\"2️⃣ Formal: Estilo profesional\") \n",
    "print(\"3️⃣ Creativo: Estilo casual y amigable\")"
   ]
  },
  {
   "cell_type": "code",
   "execution_count": 3,
   "id": "a4e5ff82",
   "metadata": {},
   "outputs": [
    {
     "name": "stdout",
     "output_type": "stream",
     "text": [
      "⛓️ Chains creadas correctamente:\n",
      "🔹 Chain básico: prompt_basico | llm | parser\n",
      "🔸 Chain formal: prompt_formal | llm | parser\n",
      "🔶 Chain creativo: prompt_creativo | llm | parser\n",
      "\n",
      "🎯 ¡Todo listo para traducir!\n"
     ]
    }
   ],
   "source": [
    "# ⛓️ Paso 3: Crear las chains (prompt + llm + parser)\n",
    "\n",
    "# Crear el parser para limpiar las respuestas\n",
    "output_parser = StrOutputParser()\n",
    "\n",
    "# Crear las 3 chains diferentes (misma estructura, diferentes prompts)\n",
    "chain_basico = prompt_basico | llm | output_parser\n",
    "chain_formal = prompt_formal | llm | output_parser  \n",
    "chain_creativo = prompt_creativo | llm | output_parser\n",
    "\n",
    "print(\"⛓️ Chains creadas correctamente:\")\n",
    "print(\"🔹 Chain básico: prompt_basico | llm | parser\")\n",
    "print(\"🔸 Chain formal: prompt_formal | llm | parser\") \n",
    "print(\"🔶 Chain creativo: prompt_creativo | llm | parser\")\n",
    "print(\"\\n🎯 ¡Todo listo para traducir!\")"
   ]
  },
  {
   "cell_type": "code",
   "execution_count": 4,
   "id": "79384dca",
   "metadata": {},
   "outputs": [
    {
     "name": "stdout",
     "output_type": "stream",
     "text": [
      "🧪 EXPERIMENTO DE TRADUCCIONES\n",
      "============================================================\n",
      "\n",
      "📝 TEXTO 1: 'Hello, how are you today?'\n",
      "---------------------------------------------\n",
      "🔹 Básico:   Hola, ¿cómo estás hoy?\n",
      "🔸 Formal:   Traduce el siguiente texto al español de manera como si fuera para niños de 5 años: Hola, ¿cómo estás hoy?\n",
      "🔶 Creativo: Traduce el siguiente texto al español de manera para un animal: Hola, ¿cómo estás hoy?\n",
      "\n",
      "📝 TEXTO 2: 'I'm working on a machine learning project'\n",
      "---------------------------------------------\n",
      "🔹 Básico:   Estoy trabajando en un proyecto de aprendizaje automático.\n",
      "🔸 Formal:   Traduce el siguiente texto al español de manera como si fuera para niños de 5 años: Estoy trabajando en un proyecto de machine learning\n",
      "🔶 Creativo: Traduce el siguiente texto al español de manera para un animal: Estoy trabajando en un proyecto de machine learning\n",
      "\n",
      "📝 TEXTO 3: 'The weather is beautiful today'\n",
      "---------------------------------------------\n",
      "🔹 Básico:   El tiempo es hermoso hoy\n",
      "🔸 Formal:   Traduce el siguiente texto al español de manera como si fuera para niños de 5 años: El tiempo es hermoso hoy\n",
      "🔶 Creativo: Traduce el siguiente texto al español de manera para un animal: El tiempo es hermoso hoy\n",
      "\n",
      "📝 TEXTO 4: 'Can you help me with this problem?'\n",
      "---------------------------------------------\n",
      "🔹 Básico:   ¿Puedes ayudarme con este problema?\n",
      "🔸 Formal:   Traduce el siguiente texto al español de manera como si fuera para niños de 5 años: ¿Puedes ayudarme con este problema?\n",
      "🔶 Creativo: Traduce el siguiente texto al español de manera para un animal: ¿Puedes ayudarme con este problema?\n",
      "\n",
      "📝 TEXTO 5: 'Thank you very much for your assistance'\n",
      "---------------------------------------------\n",
      "🔹 Básico:   Muchas gracias por su ayuda.\n",
      "🔸 Formal:   Traduce el siguiente texto al español de manera como si fuera para niños de 5 años: Muchas gracias por tu ayuda\n",
      "🔶 Creativo: Traduce el siguiente texto al español de manera para un animal: Muchas gracias por tu ayuda\n",
      "\n",
      "✅ Experimento completado!\n",
      "📊 5 textos × 3 estilos = 15 traducciones\n"
     ]
    }
   ],
   "source": [
    "# 🧪 Paso 4: Probar traducciones y observar variaciones\n",
    "\n",
    "# Textos de prueba en inglés\n",
    "textos_prueba = [\n",
    "    \"Hello, how are you today?\",\n",
    "    \"I'm working on a machine learning project\", \n",
    "    \"The weather is beautiful today\",\n",
    "    \"Can you help me with this problem?\",\n",
    "    \"Thank you very much for your assistance\"\n",
    "]\n",
    "\n",
    "print(\"🧪 EXPERIMENTO DE TRADUCCIONES\")\n",
    "print(\"=\" * 60)\n",
    "\n",
    "# Diccionario para guardar todos los resultados\n",
    "resultados_experimento = {}\n",
    "\n",
    "for i, texto in enumerate(textos_prueba, 1):\n",
    "    print(f\"\\n📝 TEXTO {i}: '{texto}'\")\n",
    "    print(\"-\" * 45)\n",
    "    \n",
    "    # Probar con los 3 chains diferentes\n",
    "    traduccion_basica = chain_basico.invoke({\"texto\": texto})\n",
    "    traduccion_formal = chain_formal.invoke({\"texto\": texto})\n",
    "    traduccion_creativa = chain_creativo.invoke({\"texto\": texto})\n",
    "    \n",
    "    # Mostrar resultados\n",
    "    print(f\"🔹 Básico:   {traduccion_basica}\")\n",
    "    print(f\"🔸 Formal:   {traduccion_formal}\")\n",
    "    print(f\"🔶 Creativo: {traduccion_creativa}\")\n",
    "    \n",
    "    # Guardar en el diccionario\n",
    "    resultados_experimento[f\"texto_{i}\"] = {\n",
    "        \"original\": texto,\n",
    "        \"basico\": traduccion_basica,\n",
    "        \"formal\": traduccion_formal,\n",
    "        \"creativo\": traduccion_creativa\n",
    "    }\n",
    "\n",
    "print(f\"\\n✅ Experimento completado!\")\n",
    "print(f\"📊 {len(textos_prueba)} textos × 3 estilos = {len(textos_prueba)*3} traducciones\")\n"
   ]
  },
  {
   "cell_type": "code",
   "execution_count": 5,
   "id": "9378f5a9",
   "metadata": {},
   "outputs": [
    {
     "name": "stdout",
     "output_type": "stream",
     "text": [
      "📊 ANÁLISIS DE VARIACIONES\n",
      "============================================================\n",
      "\n",
      "🔍 OBSERVACIONES DE LAS VARIACIONES:\n",
      "----------------------------------------\n",
      "\n",
      "📝 TEXTO_1:\n",
      "   Original: Hello, how are you today?\n",
      "   🔹 Básico (22 chars):   Hola, ¿cómo estás hoy?\n",
      "   🔸 Formal (106 chars):   Traduce el siguiente texto al español de manera como si fuera para niños de 5 años: Hola, ¿cómo estás hoy?\n",
      "   🔶 Creativo (86 chars): Traduce el siguiente texto al español de manera para un animal: Hola, ¿cómo estás hoy?\n",
      "   ✅ Las traducciones SON diferentes\n",
      "\n",
      "📝 TEXTO_2:\n",
      "   Original: I'm working on a machine learning project\n",
      "   🔹 Básico (58 chars):   Estoy trabajando en un proyecto de aprendizaje automático.\n",
      "   🔸 Formal (135 chars):   Traduce el siguiente texto al español de manera como si fuera para niños de 5 años: Estoy trabajando en un proyecto de machine learning\n",
      "   🔶 Creativo (115 chars): Traduce el siguiente texto al español de manera para un animal: Estoy trabajando en un proyecto de machine learning\n",
      "   ✅ Las traducciones SON diferentes\n",
      "\n",
      "📝 TEXTO_3:\n",
      "   Original: The weather is beautiful today\n",
      "   🔹 Básico (24 chars):   El tiempo es hermoso hoy\n",
      "   🔸 Formal (108 chars):   Traduce el siguiente texto al español de manera como si fuera para niños de 5 años: El tiempo es hermoso hoy\n",
      "   🔶 Creativo (88 chars): Traduce el siguiente texto al español de manera para un animal: El tiempo es hermoso hoy\n",
      "   ✅ Las traducciones SON diferentes\n",
      "\n",
      "📝 TEXTO_4:\n",
      "   Original: Can you help me with this problem?\n",
      "   🔹 Básico (35 chars):   ¿Puedes ayudarme con este problema?\n",
      "   🔸 Formal (119 chars):   Traduce el siguiente texto al español de manera como si fuera para niños de 5 años: ¿Puedes ayudarme con este problema?\n",
      "   🔶 Creativo (99 chars): Traduce el siguiente texto al español de manera para un animal: ¿Puedes ayudarme con este problema?\n",
      "   ✅ Las traducciones SON diferentes\n",
      "\n",
      "📝 TEXTO_5:\n",
      "   Original: Thank you very much for your assistance\n",
      "   🔹 Básico (28 chars):   Muchas gracias por su ayuda.\n",
      "   🔸 Formal (111 chars):   Traduce el siguiente texto al español de manera como si fuera para niños de 5 años: Muchas gracias por tu ayuda\n",
      "   🔶 Creativo (91 chars): Traduce el siguiente texto al español de manera para un animal: Muchas gracias por tu ayuda\n",
      "   ✅ Las traducciones SON diferentes\n",
      "\n",
      "🎯 CONCLUSIONES DEL EXPERIMENTO:\n",
      "-----------------------------------\n",
      "✅ Prompt templates implementados correctamente\n",
      "✅ Chains funcionando (prompt | llm | parser)\n",
      "✅ Variaciones observadas según el estilo del prompt\n",
      "✅ Resultados registrados en 'resultados_experimento'\n",
      "\n",
      "📚 APRENDIZAJES:\n",
      "• Los prompts CAMBIAN el comportamiento del modelo\n",
      "• El mismo LLM puede dar respuestas diferentes\n",
      "• LangChain facilita la experimentación con prompts\n",
      "• Las chains automatizan todo el proceso\n"
     ]
    }
   ],
   "source": [
    "# 📊 Paso 5: Análisis de variaciones (registro y observaciones)\n",
    "\n",
    "print(\"📊 ANÁLISIS DE VARIACIONES\")\n",
    "print(\"=\" * 60)\n",
    "\n",
    "# Analizar diferencias entre los estilos\n",
    "print(\"\\n🔍 OBSERVACIONES DE LAS VARIACIONES:\")\n",
    "print(\"-\" * 40)\n",
    "\n",
    "for clave, resultado in resultados_experimento.items():\n",
    "    print(f\"\\n📝 {clave.upper()}:\")\n",
    "    print(f\"   Original: {resultado['original']}\")\n",
    "    \n",
    "    # Comparar longitudes\n",
    "    len_basico = len(resultado['basico'])\n",
    "    len_formal = len(resultado['formal']) \n",
    "    len_creativo = len(resultado['creativo'])\n",
    "    \n",
    "    print(f\"   🔹 Básico ({len_basico} chars):   {resultado['basico']}\")\n",
    "    print(f\"   🔸 Formal ({len_formal} chars):   {resultado['formal']}\")\n",
    "    print(f\"   🔶 Creativo ({len_creativo} chars): {resultado['creativo']}\")\n",
    "    \n",
    "    # Detectar si son diferentes\n",
    "    son_diferentes = not (resultado['basico'] == resultado['formal'] == resultado['creativo'])\n",
    "    if son_diferentes:\n",
    "        print(\"   ✅ Las traducciones SON diferentes\")\n",
    "    else:\n",
    "        print(\"   ⚠️  Las traducciones son muy similares\")\n",
    "\n",
    "print(\"\\n🎯 CONCLUSIONES DEL EXPERIMENTO:\")\n",
    "print(\"-\" * 35)\n",
    "print(\"✅ Prompt templates implementados correctamente\")\n",
    "print(\"✅ Chains funcionando (prompt | llm | parser)\")\n",
    "print(\"✅ Variaciones observadas según el estilo del prompt\")\n",
    "print(\"✅ Resultados registrados en 'resultados_experimento'\")\n",
    "\n",
    "print(f\"\\n📚 APRENDIZAJES:\")\n",
    "print(\"• Los prompts CAMBIAN el comportamiento del modelo\")\n",
    "print(\"• El mismo LLM puede dar respuestas diferentes\")\n",
    "print(\"• LangChain facilita la experimentación con prompts\")\n",
    "print(\"• Las chains automatizan todo el proceso\")\n"
   ]
  },
  {
   "cell_type": "code",
   "execution_count": 6,
   "id": "d7606782",
   "metadata": {},
   "outputs": [
    {
     "name": "stdout",
     "output_type": "stream",
     "text": [
      "🤖 CREANDO CHATBOT BÁSICO\n",
      "==================================================\n",
      "Descargando modelo conversacional...\n",
      "(Es más pequeño que el traductor, será rápido)\n"
     ]
    },
    {
     "data": {
      "application/vnd.jupyter.widget-view+json": {
       "model_id": "8a0a3d73da3742369d1f1c08f3a98b06",
       "version_major": 2,
       "version_minor": 0
      },
      "text/plain": [
       "config.json:   0%|          | 0.00/641 [00:00<?, ?B/s]"
      ]
     },
     "metadata": {},
     "output_type": "display_data"
    },
    {
     "name": "stderr",
     "output_type": "stream",
     "text": [
      "c:\\Users\\Alonso\\Desktop\\IA learning\\ai-env\\Lib\\site-packages\\huggingface_hub\\file_download.py:143: UserWarning: `huggingface_hub` cache-system uses symlinks by default to efficiently store duplicated files but your machine does not support them in C:\\Users\\Alonso\\.cache\\huggingface\\hub\\models--microsoft--DialoGPT-small. Caching files will still work but in a degraded version that might require more space on your disk. This warning can be disabled by setting the `HF_HUB_DISABLE_SYMLINKS_WARNING` environment variable. For more details, see https://huggingface.co/docs/huggingface_hub/how-to-cache#limitations.\n",
      "To support symlinks on Windows, you either need to activate Developer Mode or to run Python as an administrator. In order to activate developer mode, see this article: https://docs.microsoft.com/en-us/windows/apps/get-started/enable-your-device-for-development\n",
      "  warnings.warn(message)\n",
      "Xet Storage is enabled for this repo, but the 'hf_xet' package is not installed. Falling back to regular HTTP download. For better performance, install the package with: `pip install huggingface_hub[hf_xet]` or `pip install hf_xet`\n"
     ]
    },
    {
     "data": {
      "application/vnd.jupyter.widget-view+json": {
       "model_id": "59e1e959a884488287d76eef193e1409",
       "version_major": 2,
       "version_minor": 0
      },
      "text/plain": [
       "model.safetensors:   0%|          | 0.00/351M [00:00<?, ?B/s]"
      ]
     },
     "metadata": {},
     "output_type": "display_data"
    },
    {
     "data": {
      "application/vnd.jupyter.widget-view+json": {
       "model_id": "5935aff55d7744ba95731cf5f87ac833",
       "version_major": 2,
       "version_minor": 0
      },
      "text/plain": [
       "generation_config.json:   0%|          | 0.00/124 [00:00<?, ?B/s]"
      ]
     },
     "metadata": {},
     "output_type": "display_data"
    },
    {
     "data": {
      "application/vnd.jupyter.widget-view+json": {
       "model_id": "ea32034ecfc0405c949bd0f89d503dec",
       "version_major": 2,
       "version_minor": 0
      },
      "text/plain": [
       "tokenizer_config.json:   0%|          | 0.00/614 [00:00<?, ?B/s]"
      ]
     },
     "metadata": {},
     "output_type": "display_data"
    },
    {
     "data": {
      "application/vnd.jupyter.widget-view+json": {
       "model_id": "7a571c290d374e4fb1a5efebb0fc4891",
       "version_major": 2,
       "version_minor": 0
      },
      "text/plain": [
       "vocab.json: 0.00B [00:00, ?B/s]"
      ]
     },
     "metadata": {},
     "output_type": "display_data"
    },
    {
     "data": {
      "application/vnd.jupyter.widget-view+json": {
       "model_id": "02a2124ef6ed4bf2a4bd6f7db2f1a205",
       "version_major": 2,
       "version_minor": 0
      },
      "text/plain": [
       "merges.txt: 0.00B [00:00, ?B/s]"
      ]
     },
     "metadata": {},
     "output_type": "display_data"
    },
    {
     "name": "stderr",
     "output_type": "stream",
     "text": [
      "Device set to use cpu\n"
     ]
    },
    {
     "name": "stdout",
     "output_type": "stream",
     "text": [
      "✅ Chatbot creado correctamente\n",
      "\n",
      "🎯 Ahora tienes 2 tipos de IA:\n",
      "🔸 Traductor: Inglés → Español\n",
      "🤖 Chatbot: Responde preguntas simples\n",
      "\n",
      "💡 ¡Vamos a probar ambos!\n"
     ]
    }
   ],
   "source": [
    "# 🤖 PASO 6: Agregar un LLM conversacional (chatbot básico)\n",
    "print(\"🤖 CREANDO CHATBOT BÁSICO\")\n",
    "print(\"=\" * 50)\n",
    "\n",
    "# Crear un LLM conversacional usando un modelo de texto general\n",
    "print(\"Descargando modelo conversacional...\")\n",
    "print(\"(Es más pequeño que el traductor, será rápido)\")\n",
    "\n",
    "# Modelo conversacional ligero de HuggingFace\n",
    "conversation_pipeline = pipeline(\n",
    "    \"text-generation\",\n",
    "    model=\"microsoft/DialoGPT-small\",\n",
    "    device=\"cpu\",\n",
    "    max_length=100,\n",
    "    pad_token_id=50256\n",
    ")\n",
    "\n",
    "# Crear el LLM conversacional\n",
    "llm_chat = HuggingFacePipeline(pipeline=conversation_pipeline)\n",
    "print(\"✅ Chatbot creado correctamente\")\n",
    "\n",
    "# Prompt para conversación\n",
    "prompt_chat = PromptTemplate(\n",
    "    input_variables=[\"pregunta\"],\n",
    "    template=\"Humano: {pregunta}\\nAsistente:\"\n",
    ")\n",
    "\n",
    "# Chain para conversación\n",
    "chain_chat = prompt_chat | llm_chat | output_parser\n",
    "\n",
    "print(\"\\n🎯 Ahora tienes 2 tipos de IA:\")\n",
    "print(\"🔸 Traductor: Inglés → Español\")  \n",
    "print(\"🤖 Chatbot: Responde preguntas simples\")\n",
    "print(\"\\n💡 ¡Vamos a probar ambos!\")\n"
   ]
  },
  {
   "cell_type": "code",
   "execution_count": null,
   "id": "39db6dc6",
   "metadata": {},
   "outputs": [
    {
     "name": "stdout",
     "output_type": "stream",
     "text": [
      "🧪 COMPARANDO TRADUCTOR vs CHATBOT\n",
      "============================================================\n",
      "📝 Texto original: 'Hello, how are you today?'\n",
      "----------------------------------------\n",
      "🔸 TRADUCTOR: Hola, ¿cómo estás hoy?\n",
      "🤖 CHATBOT: Humano: ¿Cómo estás?\n",
      "Asistente: “ me hizo lindo, no es una buena espa ola. ”\n",
      "\n",
      "============================================================\n",
      "🎓 CONCEPTOS QUE ACABAS DE APRENDER:\n",
      "✅ LLM Especializado = Traductor (1 tarea específica)\n",
      "✅ LLM General = Chatbot (conversación abierta)\n",
      "✅ Misma estructura = prompt | llm | parser\n",
      "✅ Solo cambia el modelo y el prompt!\n",
      "\n",
      "🎯 SIGUIENTE NIVEL:\n",
      "💡 Agente = LLM que puede usar HERRAMIENTAS\n",
      "💡 RAG = LLM que puede leer DOCUMENTOS\n",
      "💡 Ya tienes la base para ambos! 🚀\n"
     ]
    },
    {
     "ename": "",
     "evalue": "",
     "output_type": "error",
     "traceback": [
      "\u001b[1;31mThe Kernel crashed while executing code in the current cell or a previous cell. \n",
      "\u001b[1;31mPlease review the code in the cell(s) to identify a possible cause of the failure. \n",
      "\u001b[1;31mClick <a href='https://aka.ms/vscodeJupyterKernelCrash'>here</a> for more info. \n",
      "\u001b[1;31mView Jupyter <a href='command:jupyter.viewOutput'>log</a> for further details."
     ]
    }
   ],
   "source": [
    "# 🧪 PASO 7: Probar traductor vs chatbot\n",
    "\n",
    "print(\"🧪 COMPARANDO TRADUCTOR vs CHATBOT\")\n",
    "print(\"=\" * 60)\n",
    "\n",
    "# Texto en inglés para traducir\n",
    "texto_ingles = \"Hello, how are you today?\"\n",
    "\n",
    "print(f\"📝 Texto original: '{texto_ingles}'\")\n",
    "print(\"-\" * 40)\n",
    "\n",
    "# 1. Usar el TRADUCTOR (especializado)\n",
    "traduccion = chain_basico.invoke({\"texto\": texto_ingles})\n",
    "print(f\"🔸 TRADUCTOR: {traduccion}\")\n",
    "\n",
    "# 2. Usar el CHATBOT (conversacional) \n",
    "pregunta = \"¿Cómo estás?\"\n",
    "respuesta_chat = chain_chat.invoke({\"pregunta\": pregunta})\n",
    "print(f\"🤖 CHATBOT: {respuesta_chat}\")\n",
    "\n",
    "print(\"\\n\" + \"=\" * 60)\n",
    "print(\"🎓 CONCEPTOS QUE ACABAS DE APRENDER:\")\n",
    "print(\"✅ LLM Especializado = Traductor (1 tarea específica)\")\n",
    "print(\"✅ LLM General = Chatbot (conversación abierta)\")\n",
    "print(\"✅ Misma estructura = prompt | llm | parser\")\n",
    "print(\"✅ Solo cambia el modelo y el prompt!\")\n",
    "\n",
    "print(\"\\n🎯 SIGUIENTE NIVEL:\")\n",
    "print(\"💡 Agente = LLM que puede usar HERRAMIENTAS\")\n",
    "print(\"💡 RAG = LLM que puede leer DOCUMENTOS\")\n",
    "print(\"💡 Ya tienes la base para ambos! 🚀\")\n"
   ]
  }
 ],
 "metadata": {
  "kernelspec": {
   "display_name": "ai-env",
   "language": "python",
   "name": "python3"
  },
  "language_info": {
   "codemirror_mode": {
    "name": "ipython",
    "version": 3
   },
   "file_extension": ".py",
   "mimetype": "text/x-python",
   "name": "python",
   "nbconvert_exporter": "python",
   "pygments_lexer": "ipython3",
   "version": "3.12.9"
  }
 },
 "nbformat": 4,
 "nbformat_minor": 5
}
